{
 "cells": [
  {
   "cell_type": "code",
   "execution_count": 1,
   "metadata": {},
   "outputs": [
    {
     "ename": "TypeError",
     "evalue": "show() takes 1 positional argument but 2 were given",
     "output_type": "error",
     "traceback": [
      "\u001b[1;31m---------------------------------------------------------------------------\u001b[0m",
      "\u001b[1;31mTypeError\u001b[0m                                 Traceback (most recent call last)",
      "Cell \u001b[1;32mIn[1], line 28\u001b[0m\n\u001b[0;32m     25\u001b[0m     pcm \u001b[38;5;241m=\u001b[39m pitch\u001b[38;5;241m.\u001b[39mheatmap(bin_statistic, ax\u001b[38;5;241m=\u001b[39max, cmap\u001b[38;5;241m=\u001b[39m\u001b[38;5;124m'\u001b[39m\u001b[38;5;124mhot\u001b[39m\u001b[38;5;124m'\u001b[39m, edgecolors\u001b[38;5;241m=\u001b[39m\u001b[38;5;124m'\u001b[39m\u001b[38;5;124mblack\u001b[39m\u001b[38;5;124m'\u001b[39m)\n\u001b[0;32m     26\u001b[0m     plt\u001b[38;5;241m.\u001b[39mshow(fig)\n\u001b[1;32m---> 28\u001b[0m \u001b[43mplot_heatmap_location\u001b[49m\u001b[43m(\u001b[49m\u001b[43mU19_xg\u001b[49m\u001b[43m)\u001b[49m\n\u001b[0;32m     29\u001b[0m plot_heatmap_location(Sup_xg)\n",
      "Cell \u001b[1;32mIn[1], line 26\u001b[0m, in \u001b[0;36mplot_heatmap_location\u001b[1;34m(data)\u001b[0m\n\u001b[0;32m     24\u001b[0m bin_statistic[\u001b[38;5;124m'\u001b[39m\u001b[38;5;124mstatistic\u001b[39m\u001b[38;5;124m'\u001b[39m] \u001b[38;5;241m=\u001b[39m gaussian_filter(bin_statistic[\u001b[38;5;124m'\u001b[39m\u001b[38;5;124mstatistic\u001b[39m\u001b[38;5;124m'\u001b[39m], \u001b[38;5;241m1\u001b[39m)\n\u001b[0;32m     25\u001b[0m pcm \u001b[38;5;241m=\u001b[39m pitch\u001b[38;5;241m.\u001b[39mheatmap(bin_statistic, ax\u001b[38;5;241m=\u001b[39max, cmap\u001b[38;5;241m=\u001b[39m\u001b[38;5;124m'\u001b[39m\u001b[38;5;124mhot\u001b[39m\u001b[38;5;124m'\u001b[39m, edgecolors\u001b[38;5;241m=\u001b[39m\u001b[38;5;124m'\u001b[39m\u001b[38;5;124mblack\u001b[39m\u001b[38;5;124m'\u001b[39m)\n\u001b[1;32m---> 26\u001b[0m \u001b[43mplt\u001b[49m\u001b[38;5;241;43m.\u001b[39;49m\u001b[43mshow\u001b[49m\u001b[43m(\u001b[49m\u001b[43mfig\u001b[49m\u001b[43m)\u001b[49m\n",
      "File \u001b[1;32mc:\\ProgramData\\Anaconda3\\lib\\site-packages\\matplotlib\\pyplot.py:421\u001b[0m, in \u001b[0;36mshow\u001b[1;34m(*args, **kwargs)\u001b[0m\n\u001b[0;32m    377\u001b[0m \u001b[38;5;250m\u001b[39m\u001b[38;5;124;03m\"\"\"\u001b[39;00m\n\u001b[0;32m    378\u001b[0m \u001b[38;5;124;03mDisplay all open figures.\u001b[39;00m\n\u001b[0;32m    379\u001b[0m \n\u001b[1;32m   (...)\u001b[0m\n\u001b[0;32m    418\u001b[0m \u001b[38;5;124;03mexplicitly there.\u001b[39;00m\n\u001b[0;32m    419\u001b[0m \u001b[38;5;124;03m\"\"\"\u001b[39;00m\n\u001b[0;32m    420\u001b[0m _warn_if_gui_out_of_main_thread()\n\u001b[1;32m--> 421\u001b[0m \u001b[38;5;28;01mreturn\u001b[39;00m _get_backend_mod()\u001b[38;5;241m.\u001b[39mshow(\u001b[38;5;241m*\u001b[39margs, \u001b[38;5;241m*\u001b[39m\u001b[38;5;241m*\u001b[39mkwargs)\n",
      "\u001b[1;31mTypeError\u001b[0m: show() takes 1 positional argument but 2 were given"
     ]
    }
   ],
   "source": [
    "import pandas as pd\n",
    "import pandas as pd\n",
    "import streamlit as st\n",
    "import matplotlib.pyplot as plt\n",
    "import mplsoccer\n",
    "from mplsoccer import Pitch\n",
    "from scipy.ndimage import gaussian_filter\n",
    "import gspread\n",
    "import plotly.graph_objs as go\n",
    "from datetime import datetime\n",
    "from dateutil import parser\n",
    "U19_events = pd.read_csv(r'C:\\Users\\SéamusPeareBartholdy\\Documents\\GitHub\\AC-Horsens-U19\\events.csv')\n",
    "Superliga_events = pd.read_csv(r'C:\\Users\\SéamusPeareBartholdy\\Documents\\GitHub\\AC-Horsens-U19\\events superliga.csv')\n",
    "U19_xg = U19_events[(U19_events['type.secondary'].str.contains('goal')) & (~U19_events['type.secondary'].str.contains('conceded_goal'))]\n",
    "Sup_xg = Superliga_events[(Superliga_events['type.secondary'].str.contains('goal')) & (~Superliga_events['type.secondary'].str.contains('conceded_goal'))]\n",
    "from mplsoccer import Pitch, VerticalPitch\n",
    "import matplotlib.pyplot as plt\n",
    "import numpy as np\n",
    "def plot_heatmap_location(data):\n",
    "    pitch = Pitch(pitch_type='wyscout', line_zorder=2, pitch_color='grass', line_color='white')\n",
    "    fig, ax = pitch.draw(figsize=(6.6, 4.125))\n",
    "    fig.set_facecolor('#22312b')\n",
    "    bin_statistic = pitch.bin_statistic(data['location.x'], data['location.y'], statistic='count', bins=(50, 25))\n",
    "    bin_statistic['statistic'] = gaussian_filter(bin_statistic['statistic'], 1)\n",
    "    pcm = pitch.heatmap(bin_statistic, ax=ax, cmap='hot', edgecolors='black')\n",
    "    plt.show(fig)\n",
    "\n",
    "plot_heatmap_location(U19_xg)\n",
    "plot_heatmap_location(Sup_xg)"
   ]
  },
  {
   "cell_type": "code",
   "execution_count": 25,
   "metadata": {},
   "outputs": [
    {
     "name": "stdout",
     "output_type": "stream",
     "text": [
      "350.5\n",
      "371.44444444444446\n",
      "0.8504007353496649\n",
      "0.835310457417608\n",
      "79.16666666666667\n",
      "70.85714285714286\n",
      "772.6666666666666\n",
      "793.0952380952381\n",
      "224.5\n",
      "221.5952380952381\n"
     ]
    },
    {
     "name": "stderr",
     "output_type": "stream",
     "text": [
      "C:\\Users\\SéamusPeareBartholdy\\AppData\\Local\\Temp\\ipykernel_6452\\4167641192.py:6: FutureWarning: The default value of numeric_only in DataFrameGroupBy.sum is deprecated. In a future version, numeric_only will default to False. Either specify numeric_only or select only columns which should be valid for the function.\n",
      "  matchstats_superliga = matchstats_superliga.groupby(['team.name','label']).sum().reset_index()\n",
      "C:\\Users\\SéamusPeareBartholdy\\AppData\\Local\\Temp\\ipykernel_6452\\4167641192.py:10: FutureWarning: The default value of numeric_only in DataFrameGroupBy.sum is deprecated. In a future version, numeric_only will default to False. Either specify numeric_only or select only columns which should be valid for the function.\n",
      "  matchstats_U19 = matchstats_U19.groupby(['team.name','label']).sum().reset_index()\n"
     ]
    }
   ],
   "source": [
    "import pandas as pd\n",
    "\n",
    "matchstats_superliga = pd.read_csv(r'C:\\Users\\SéamusPeareBartholdy\\Documents\\GitHub\\AC-Horsens-U19\\matchstats superliga.csv')\n",
    "matchstats_U19 = pd.read_csv(r'C:\\Users\\SéamusPeareBartholdy\\Documents\\GitHub\\AC-Horsens-U19\\matchstats.csv')\n",
    "matchstats_superliga = matchstats_superliga.drop(columns=['player.id','player.name'])\n",
    "matchstats_superliga = matchstats_superliga.groupby(['team.name','label']).sum().reset_index()\n",
    "matchstats_superliga = matchstats_superliga.drop(columns = ['team.name'])\n",
    "matchstats_superliga = matchstats_superliga.groupby(['label']).sum().reset_index()\n",
    "matchstats_U19 = matchstats_U19.drop(columns=['player.id','player.name'])\n",
    "matchstats_U19 = matchstats_U19.groupby(['team.name','label']).sum().reset_index()\n",
    "matchstats_U19 = matchstats_U19.drop(columns = ['team.name'])\n",
    "matchstats_U19 = matchstats_U19.groupby(['label']).sum().reset_index()\n",
    "\n",
    "matchstats_superliga['pass_percentage'] = matchstats_superliga['total_successfulPasses']/matchstats_superliga['total_passes']\n",
    "matchstats_U19['pass_percentage'] = matchstats_U19['total_successfulPasses']/matchstats_U19['total_passes']\n",
    "\n",
    "print(matchstats_superliga['total_duels'].mean())\n",
    "print(matchstats_U19['total_duels'].mean())\n",
    "print(matchstats_superliga['pass_percentage'].mean())\n",
    "print(matchstats_U19['pass_percentage'].mean())\n",
    "print(matchstats_U19['total_ownHalfLosses'].mean())\n",
    "print(matchstats_superliga['total_ownHalfLosses'].mean())\n",
    "print(matchstats_U19['total_successfulPasses'].mean())\n",
    "print(matchstats_superliga['total_successfulPasses'].mean())\n",
    "print(matchstats_U19['total_successfulForwardPasses'].mean())\n",
    "print(matchstats_superliga['total_successfulForwardPasses'].mean())\n"
   ]
  },
  {
   "cell_type": "code",
   "execution_count": 26,
   "metadata": {},
   "outputs": [
    {
     "name": "stdout",
     "output_type": "stream",
     "text": [
      "20.976190476190474\n",
      "18.22222222222222\n"
     ]
    }
   ],
   "source": [
    "\n",
    "dzentriesU19 = pd.read_csv('dangerzone_entries.csv')\n",
    "dzentriessup = pd.read_csv('dangerzone_entries superliga.csv')\n",
    "dzentriessup = dzentriessup[['label','dangerzone_entry']]\n",
    "dzentriessup = dzentriessup.groupby('label').sum()\n",
    "dzentriesU19 = dzentriesU19[['label','dangerzone_entry']]\n",
    "dzentriesU19 = dzentriesU19.groupby('label').sum()\n",
    "print(dzentriessup['dangerzone_entry'].mean())\n",
    "print(dzentriesU19['dangerzone_entry'].mean())"
   ]
  },
  {
   "cell_type": "code",
   "execution_count": 27,
   "metadata": {},
   "outputs": [
    {
     "name": "stdout",
     "output_type": "stream",
     "text": [
      "18.408592858411044\n",
      "16.66712834080535\n"
     ]
    }
   ],
   "source": [
    "ppda_u19 = pd.read_csv('PPDA.csv')\n",
    "ppda_u19 = ppda_u19[['label','PPDA']]\n",
    "ppda_u19 = ppda_u19.groupby('label').mean()\n",
    "ppda_sup = pd.read_csv('PPDA superliga.csv')\n",
    "ppda_sup = ppda_sup[['label','PPDA']]\n",
    "ppda_sup = ppda_sup.groupby('label').mean()\n",
    "print(ppda_sup['PPDA'].mean())\n",
    "print(ppda_u19['PPDA'].mean())"
   ]
  },
  {
   "cell_type": "code",
   "execution_count": 30,
   "metadata": {},
   "outputs": [
    {
     "name": "stdout",
     "output_type": "stream",
     "text": [
      "0.12524294383561646\n",
      "0.11811688360498564\n"
     ]
    }
   ],
   "source": [
    "U19_xg = pd.read_csv('xg.csv')\n",
    "Sup_xg = pd.read_csv('xg superliga.csv')\n",
    "\n",
    "print(U19_xg['shot.xg'].mean())\n",
    "print(Sup_xg['shot.xg'].mean())\n",
    "\n",
    "\n",
    "penareaentriesU19 = pd.read_csv('penalty_area_entries.csv')\n",
    "penareaentriessuperliga = pd.read_csv('penalty_area_entries superliga.csv')\n",
    "\n",
    "def plot_heatmap_location(data, title):\n",
    "    pitch = Pitch(pitch_type='wyscout', line_zorder=2, pitch_color='grass', line_color='white')\n",
    "    fig, ax = pitch.draw(figsize=(6.6, 4.125))\n",
    "    fig.set_facecolor('#22312b')\n",
    "    bin_statistic = pitch.bin_statistic(data['location.x'], data['location.y'], statistic='count', bins=(50, 25))\n",
    "    bin_statistic['statistic'] = gaussian_filter(bin_statistic['statistic'], 1)\n",
    "    pcm = pitch.heatmap(bin_statistic, ax=ax, cmap='hot', edgecolors='black')\n",
    "    plt.title(title)  # Use st.title() instead of plt.title()\n",
    "    plt.show()\n",
    "\n",
    "plot_heatmap_location(penareaentriesU19,'U19 xg')\n",
    "plot_heatmap_location(penareaentriessuperliga,'Superliga xg')"
   ]
  }
 ],
 "metadata": {
  "kernelspec": {
   "display_name": "base",
   "language": "python",
   "name": "python3"
  },
  "language_info": {
   "codemirror_mode": {
    "name": "ipython",
    "version": 3
   },
   "file_extension": ".py",
   "mimetype": "text/x-python",
   "name": "python",
   "nbconvert_exporter": "python",
   "pygments_lexer": "ipython3",
   "version": "3.9.19"
  }
 },
 "nbformat": 4,
 "nbformat_minor": 2
}
