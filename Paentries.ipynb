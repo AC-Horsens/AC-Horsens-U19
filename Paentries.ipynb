{
 "cells": [
  {
   "cell_type": "code",
   "execution_count": 6,
   "metadata": {},
   "outputs": [
    {
     "name": "stdout",
     "output_type": "stream",
     "text": [
      "                                  label        team.name  count\n",
      "0              AGF U19 - AaB U19, 2 - 1          AGF U19     40\n",
      "1              AGF U19 - AaB U19, 2 - 1          AaB U19     46\n",
      "2      AGF U19 - Brøndby U19, 2 - 2 (P)          AGF U19     38\n",
      "3      AGF U19 - Brøndby U19, 2 - 2 (P)      Brøndby U19     32\n",
      "4          AGF U19 - Esbjerg U19, 0 - 4          AGF U19     40\n",
      "..                                  ...              ...    ...\n",
      "335      Vejle U19 - Randers U19, 0 - 1        Vejle U19     56\n",
      "336    Vejle U19 - Silkeborg U19, 0 - 3    Silkeborg U19     29\n",
      "337    Vejle U19 - Silkeborg U19, 0 - 3        Vejle U19     45\n",
      "338  Vejle U19 - SønderjyskE U19, 1 - 4  SønderjyskE U19     28\n",
      "339  Vejle U19 - SønderjyskE U19, 1 - 4        Vejle U19     29\n",
      "\n",
      "[340 rows x 3 columns]\n"
     ]
    }
   ],
   "source": [
    "import pandas as pd\n",
    "\n",
    "penalty_area_entries = pd.read_csv('C:/Users/SéamusPeareBartholdy/Documents/GitHub/AC-Horsens-U19/penalty_area_entries.csv')\n",
    "penalty_area_entry_counts = penalty_area_entries.groupby(['label', 'team.name'])['penalty_area_entry'].sum()\n",
    "\n",
    "# Reset the index to convert the result into a DataFrame\n",
    "penalty_area_entry_counts = penalty_area_entry_counts.reset_index()\n",
    "\n",
    "# Rename the column to 'count' for clarity\n",
    "penalty_area_entry_counts = penalty_area_entry_counts.rename(columns={'penalty_area_entry': 'count'})\n",
    "\n",
    "print(penalty_area_entry_counts)"
   ]
  }
 ],
 "metadata": {
  "kernelspec": {
   "display_name": "base",
   "language": "python",
   "name": "python3"
  },
  "language_info": {
   "codemirror_mode": {
    "name": "ipython",
    "version": 3
   },
   "file_extension": ".py",
   "mimetype": "text/x-python",
   "name": "python",
   "nbconvert_exporter": "python",
   "pygments_lexer": "ipython3",
   "version": "3.9.19"
  }
 },
 "nbformat": 4,
 "nbformat_minor": 2
}
