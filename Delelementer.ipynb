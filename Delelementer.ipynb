{
 "cells": [
  {
   "cell_type": "code",
   "execution_count": 111,
   "metadata": {},
   "outputs": [],
   "source": [
    "import pandas as pd\n",
    "import numpy as np\n",
    "from fpdf import FPDF\n",
    "import matplotlib.pyplot as plt\n",
    "import os\n",
    "from datetime import datetime\n",
    "from datetime import date\n",
    "\n",
    "def load_data():\n",
    "    df_xg = pd.read_csv('C:/Users/SéamusPeareBartholdy/Documents/GitHub/AC-Horsens-U19/xg.csv')\n",
    "    \n",
    "    df_possession_stats = pd.read_csv('C:/Users/SéamusPeareBartholdy/Documents/GitHub/AC-Horsens-U19/terr_poss.csv')\n",
    "    \n",
    "    df_xg_agg = pd.read_csv('C:/Users/SéamusPeareBartholdy/Documents/GitHub/AC-Horsens-U19/xg_agg.csv')\n",
    "    \n",
    "    penalty_area_entry_counts = pd.read_csv('C:/Users/SéamusPeareBartholdy/Documents/GitHub/AC-Horsens-U19/penalty_area_entry_counts.csv')\n",
    "    \n",
    "    df_matchstats = pd.read_csv('C:/Users/SéamusPeareBartholdy/Documents/GitHub/AC-Horsens-U19/matchstats.csv')\n",
    "    \n",
    "    df_ppda = pd.read_csv('C:/Users/SéamusPeareBartholdy/Documents/GitHub/AC-Horsens-U19/ppda.csv')\n",
    "    \n",
    "    return df_xg, df_possession_stats,df_xg_agg, penalty_area_entry_counts, df_matchstats, df_ppda\n",
    "\n",
    "\n"
   ]
  },
  {
   "cell_type": "code",
   "execution_count": 116,
   "metadata": {},
   "outputs": [
    {
     "name": "stdout",
     "output_type": "stream",
     "text": [
      "     team.name                                    label  percentage_possession\n",
      "0      AGF U19                 AGF U19 - AaB U19, 2 - 1              15.599922\n",
      "1      AGF U19         AGF U19 - Brøndby U19, 2 - 2 (P)              17.611143\n",
      "2      AGF U19             AGF U19 - Esbjerg U19, 0 - 4              20.077614\n",
      "3      AGF U19             AGF U19 - Horsens U19, 1 - 2              17.444379\n",
      "4      AGF U19           AGF U19 - København U19, 1 - 3              14.380265\n",
      "..         ...                                      ...                    ...\n",
      "335  Vejle U19  Vejle U19 - Nordsjælland U19, 1 - 1 (E)              14.155496\n",
      "336  Vejle U19                Vejle U19 - OB U19, 0 - 2              15.933859\n",
      "337  Vejle U19           Vejle U19 - Randers U19, 0 - 1              17.001630\n",
      "338  Vejle U19         Vejle U19 - Silkeborg U19, 0 - 3              17.869034\n",
      "339  Vejle U19       Vejle U19 - SønderjyskE U19, 1 - 4              17.296804\n",
      "\n",
      "[340 rows x 3 columns]\n"
     ]
    }
   ],
   "source": [
    "df_grouped = df_possession_stats.groupby(['team.name', 'label', 'territorial_possession']).size().reset_index(name='count')\n",
    "df_total_possessions = df_grouped.groupby(['label'])['count'].sum().reset_index()\n",
    "df_total_possessions = df_total_possessions.rename(columns={'count': 'total_possessions'})\n",
    "df_total_possessions = df_grouped.merge(df_total_possessions)\n",
    "df_total_possessions['percentage_possession'] = (df_total_possessions['count'] / df_total_possessions['total_possessions']) * 100\n",
    "df_total_possessions = df_total_possessions.groupby(['team.name','label'])['percentage_possession'].mean().reset_index()\n",
    "df_total_possessions = df_total_possessions[['team.name','label','percentage_possession']]\n",
    "print(df_total_possessions)"
   ]
  }
 ],
 "metadata": {
  "kernelspec": {
   "display_name": "base",
   "language": "python",
   "name": "python3"
  },
  "language_info": {
   "codemirror_mode": {
    "name": "ipython",
    "version": 3
   },
   "file_extension": ".py",
   "mimetype": "text/x-python",
   "name": "python",
   "nbconvert_exporter": "python",
   "pygments_lexer": "ipython3",
   "version": "3.9.19"
  }
 },
 "nbformat": 4,
 "nbformat_minor": 2
}
