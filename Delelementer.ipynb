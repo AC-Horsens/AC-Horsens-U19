{
 "cells": [
  {
   "cell_type": "code",
   "execution_count": 9,
   "metadata": {},
   "outputs": [
    {
     "name": "stdout",
     "output_type": "stream",
     "text": [
      "                 player.name  location.x  location.y\n",
      "33650  L. Risager Kristensen        23.0        86.0\n",
      "33678              E. A´Ngon         8.0        27.0\n",
      "33681         S. Dalby Wille         6.0        54.0\n",
      "33684              S. Traoré        28.0        96.0\n",
      "33689  L. Risager Kristensen        25.0        97.0\n",
      "...                      ...         ...         ...\n",
      "35375                M. Andy        83.0        58.0\n",
      "35385             Z. Hussein        20.0        11.0\n",
      "35392         E. Favor Fully         3.0        39.0\n",
      "35406         E. Favor Fully        40.0        24.0\n",
      "35412          H. Toftegaard        54.0        72.0\n",
      "\n",
      "[101 rows x 3 columns]\n"
     ]
    },
    {
     "name": "stderr",
     "output_type": "stream",
     "text": [
      "2024-09-16 15:56:07.882 \n",
      "  \u001b[33m\u001b[1mWarning:\u001b[0m to view this Streamlit app on a browser, run it with the following\n",
      "  command:\n",
      "\n",
      "    streamlit run c:\\ProgramData\\Anaconda3\\lib\\site-packages\\ipykernel_launcher.py [ARGUMENTS]\n"
     ]
    },
    {
     "data": {
      "text/plain": [
       "DeltaGenerator()"
      ]
     },
     "execution_count": 9,
     "metadata": {},
     "output_type": "execute_result"
    }
   ],
   "source": [
    "\n",
    "# Call the scatter plot function to verify coordinates\n",
    "\n",
    "\n"
   ]
  }
 ],
 "metadata": {
  "kernelspec": {
   "display_name": "base",
   "language": "python",
   "name": "python3"
  },
  "language_info": {
   "codemirror_mode": {
    "name": "ipython",
    "version": 3
   },
   "file_extension": ".py",
   "mimetype": "text/x-python",
   "name": "python",
   "nbconvert_exporter": "python",
   "pygments_lexer": "ipython3",
   "version": "3.9.19"
  }
 },
 "nbformat": 4,
 "nbformat_minor": 2
}
